{
 "cells": [
  {
   "cell_type": "markdown",
   "metadata": {},
   "source": [
    "# Credit Risk Resampling Techniques"
   ]
  },
  {
   "cell_type": "code",
   "execution_count": 2,
   "metadata": {},
   "outputs": [],
   "source": [
    "import warnings\n",
    "warnings.filterwarnings('ignore')"
   ]
  },
  {
   "cell_type": "code",
   "execution_count": 3,
   "metadata": {},
   "outputs": [],
   "source": [
    "import numpy as np\n",
    "import pandas as pd\n",
    "from pathlib import Path\n",
    "from collections import Counter\n",
    "import os"
   ]
  },
  {
   "cell_type": "markdown",
   "metadata": {},
   "source": [
    "# Read the CSV and Perform Basic Data Cleaning"
   ]
  },
  {
   "cell_type": "code",
   "execution_count": 4,
   "metadata": {},
   "outputs": [],
   "source": [
    "columns = [\n",
    "    \"loan_amnt\", \"int_rate\", \"installment\", \"home_ownership\",\n",
    "    \"annual_inc\", \"verification_status\", \"issue_d\", \"loan_status\",\n",
    "    \"pymnt_plan\", \"dti\", \"delinq_2yrs\", \"inq_last_6mths\",\n",
    "    \"open_acc\", \"pub_rec\", \"revol_bal\", \"total_acc\",\n",
    "    \"initial_list_status\", \"out_prncp\", \"out_prncp_inv\", \"total_pymnt\",\n",
    "    \"total_pymnt_inv\", \"total_rec_prncp\", \"total_rec_int\", \"total_rec_late_fee\",\n",
    "    \"recoveries\", \"collection_recovery_fee\", \"last_pymnt_amnt\", \"next_pymnt_d\",\n",
    "    \"collections_12_mths_ex_med\", \"policy_code\", \"application_type\", \"acc_now_delinq\",\n",
    "    \"tot_coll_amt\", \"tot_cur_bal\", \"open_acc_6m\", \"open_act_il\",\n",
    "    \"open_il_12m\", \"open_il_24m\", \"mths_since_rcnt_il\", \"total_bal_il\",\n",
    "    \"il_util\", \"open_rv_12m\", \"open_rv_24m\", \"max_bal_bc\",\n",
    "    \"all_util\", \"total_rev_hi_lim\", \"inq_fi\", \"total_cu_tl\",\n",
    "    \"inq_last_12m\", \"acc_open_past_24mths\", \"avg_cur_bal\", \"bc_open_to_buy\",\n",
    "    \"bc_util\", \"chargeoff_within_12_mths\", \"delinq_amnt\", \"mo_sin_old_il_acct\",\n",
    "    \"mo_sin_old_rev_tl_op\", \"mo_sin_rcnt_rev_tl_op\", \"mo_sin_rcnt_tl\", \"mort_acc\",\n",
    "    \"mths_since_recent_bc\", \"mths_since_recent_inq\", \"num_accts_ever_120_pd\", \"num_actv_bc_tl\",\n",
    "    \"num_actv_rev_tl\", \"num_bc_sats\", \"num_bc_tl\", \"num_il_tl\",\n",
    "    \"num_op_rev_tl\", \"num_rev_accts\", \"num_rev_tl_bal_gt_0\",\n",
    "    \"num_sats\", \"num_tl_120dpd_2m\", \"num_tl_30dpd\", \"num_tl_90g_dpd_24m\",\n",
    "    \"num_tl_op_past_12m\", \"pct_tl_nvr_dlq\", \"percent_bc_gt_75\", \"pub_rec_bankruptcies\",\n",
    "    \"tax_liens\", \"tot_hi_cred_lim\", \"total_bal_ex_mort\", \"total_bc_limit\",\n",
    "    \"total_il_high_credit_limit\", \"hardship_flag\", \"debt_settlement_flag\"\n",
    "]\n",
    "\n",
    "target = [\"loan_status\"]"
   ]
  },
  {
   "cell_type": "code",
   "execution_count": 5,
   "metadata": {},
   "outputs": [
    {
     "output_type": "stream",
     "name": "stdout",
     "text": [
      "Resources\\LoanStats_2019Q1.csv\n"
     ]
    },
    {
     "output_type": "execute_result",
     "data": {
      "text/plain": [
       "    loan_amnt  int_rate  installment home_ownership  annual_inc  \\\n",
       "0     10500.0    0.1719       375.35           RENT     66000.0   \n",
       "1     25000.0    0.2000       929.09       MORTGAGE    105000.0   \n",
       "2     20000.0    0.2000       529.88       MORTGAGE     56000.0   \n",
       "3     10000.0    0.1640       353.55           RENT     92000.0   \n",
       "4     22000.0    0.1474       520.39       MORTGAGE     52000.0   \n",
       "..        ...       ...          ...            ...         ...   \n",
       "95    20000.0    0.0881       634.23       MORTGAGE    115000.0   \n",
       "96    24000.0    0.1240       538.74           RENT     50000.0   \n",
       "97    14000.0    0.1390       325.04           RENT     60000.0   \n",
       "98    40000.0    0.0702      1235.45       MORTGAGE    150000.0   \n",
       "99    10000.0    0.0646       306.31       MORTGAGE    150000.0   \n",
       "\n",
       "   verification_status   issue_d loan_status pymnt_plan    dti  ...  \\\n",
       "0      Source Verified  Mar-2019    low_risk          n  27.24  ...   \n",
       "1             Verified  Mar-2019    low_risk          n  20.23  ...   \n",
       "2             Verified  Mar-2019    low_risk          n  24.26  ...   \n",
       "3             Verified  Mar-2019    low_risk          n  31.44  ...   \n",
       "4         Not Verified  Mar-2019    low_risk          n  18.76  ...   \n",
       "..                 ...       ...         ...        ...    ...  ...   \n",
       "95        Not Verified  Mar-2019    low_risk          n  32.58  ...   \n",
       "96     Source Verified  Mar-2019    low_risk          n  25.88  ...   \n",
       "97        Not Verified  Mar-2019    low_risk          n  11.36  ...   \n",
       "98     Source Verified  Mar-2019    low_risk          n  13.66  ...   \n",
       "99        Not Verified  Mar-2019    low_risk          n   7.68  ...   \n",
       "\n",
       "    pct_tl_nvr_dlq  percent_bc_gt_75  pub_rec_bankruptcies  tax_liens  \\\n",
       "0             85.7             100.0                   0.0        0.0   \n",
       "1             91.2              50.0                   1.0        0.0   \n",
       "2             66.7              50.0                   0.0        0.0   \n",
       "3            100.0              50.0                   1.0        0.0   \n",
       "4            100.0               0.0                   0.0        0.0   \n",
       "..             ...               ...                   ...        ...   \n",
       "95            96.8               0.0                   0.0        0.0   \n",
       "96           100.0               0.0                   0.0        0.0   \n",
       "97            94.1             100.0                   0.0        0.0   \n",
       "98           100.0              72.7                   0.0        0.0   \n",
       "99           100.0               0.0                   0.0        0.0   \n",
       "\n",
       "    tot_hi_cred_lim  total_bal_ex_mort total_bc_limit  \\\n",
       "0           65687.0            38199.0         2000.0   \n",
       "1          271427.0            60641.0        41200.0   \n",
       "2           60644.0            45684.0         7500.0   \n",
       "3           99506.0            68784.0        19700.0   \n",
       "4          219750.0            25919.0        27600.0   \n",
       "..              ...                ...            ...   \n",
       "95         231097.0           139116.0        67300.0   \n",
       "96          92477.0            40225.0        32900.0   \n",
       "97          57207.0            51341.0        10300.0   \n",
       "98         323723.0            52914.0        42900.0   \n",
       "99          93509.0            14693.0        49300.0   \n",
       "\n",
       "    total_il_high_credit_limit  hardship_flag  debt_settlement_flag  \n",
       "0                      61987.0              N                     N  \n",
       "1                      49197.0              N                     N  \n",
       "2                      43144.0              N                     N  \n",
       "3                      76506.0              N                     N  \n",
       "4                      20000.0              N                     N  \n",
       "..                         ...            ...                   ...  \n",
       "95                    135997.0              N                     N  \n",
       "96                     52577.0              N                     N  \n",
       "97                     40007.0              N                     N  \n",
       "98                     24409.0              N                     N  \n",
       "99                     28509.0              N                     N  \n",
       "\n",
       "[100 rows x 86 columns]"
      ],
      "text/html": "<div>\n<style scoped>\n    .dataframe tbody tr th:only-of-type {\n        vertical-align: middle;\n    }\n\n    .dataframe tbody tr th {\n        vertical-align: top;\n    }\n\n    .dataframe thead th {\n        text-align: right;\n    }\n</style>\n<table border=\"1\" class=\"dataframe\">\n  <thead>\n    <tr style=\"text-align: right;\">\n      <th></th>\n      <th>loan_amnt</th>\n      <th>int_rate</th>\n      <th>installment</th>\n      <th>home_ownership</th>\n      <th>annual_inc</th>\n      <th>verification_status</th>\n      <th>issue_d</th>\n      <th>loan_status</th>\n      <th>pymnt_plan</th>\n      <th>dti</th>\n      <th>...</th>\n      <th>pct_tl_nvr_dlq</th>\n      <th>percent_bc_gt_75</th>\n      <th>pub_rec_bankruptcies</th>\n      <th>tax_liens</th>\n      <th>tot_hi_cred_lim</th>\n      <th>total_bal_ex_mort</th>\n      <th>total_bc_limit</th>\n      <th>total_il_high_credit_limit</th>\n      <th>hardship_flag</th>\n      <th>debt_settlement_flag</th>\n    </tr>\n  </thead>\n  <tbody>\n    <tr>\n      <th>0</th>\n      <td>10500.0</td>\n      <td>0.1719</td>\n      <td>375.35</td>\n      <td>RENT</td>\n      <td>66000.0</td>\n      <td>Source Verified</td>\n      <td>Mar-2019</td>\n      <td>low_risk</td>\n      <td>n</td>\n      <td>27.24</td>\n      <td>...</td>\n      <td>85.7</td>\n      <td>100.0</td>\n      <td>0.0</td>\n      <td>0.0</td>\n      <td>65687.0</td>\n      <td>38199.0</td>\n      <td>2000.0</td>\n      <td>61987.0</td>\n      <td>N</td>\n      <td>N</td>\n    </tr>\n    <tr>\n      <th>1</th>\n      <td>25000.0</td>\n      <td>0.2000</td>\n      <td>929.09</td>\n      <td>MORTGAGE</td>\n      <td>105000.0</td>\n      <td>Verified</td>\n      <td>Mar-2019</td>\n      <td>low_risk</td>\n      <td>n</td>\n      <td>20.23</td>\n      <td>...</td>\n      <td>91.2</td>\n      <td>50.0</td>\n      <td>1.0</td>\n      <td>0.0</td>\n      <td>271427.0</td>\n      <td>60641.0</td>\n      <td>41200.0</td>\n      <td>49197.0</td>\n      <td>N</td>\n      <td>N</td>\n    </tr>\n    <tr>\n      <th>2</th>\n      <td>20000.0</td>\n      <td>0.2000</td>\n      <td>529.88</td>\n      <td>MORTGAGE</td>\n      <td>56000.0</td>\n      <td>Verified</td>\n      <td>Mar-2019</td>\n      <td>low_risk</td>\n      <td>n</td>\n      <td>24.26</td>\n      <td>...</td>\n      <td>66.7</td>\n      <td>50.0</td>\n      <td>0.0</td>\n      <td>0.0</td>\n      <td>60644.0</td>\n      <td>45684.0</td>\n      <td>7500.0</td>\n      <td>43144.0</td>\n      <td>N</td>\n      <td>N</td>\n    </tr>\n    <tr>\n      <th>3</th>\n      <td>10000.0</td>\n      <td>0.1640</td>\n      <td>353.55</td>\n      <td>RENT</td>\n      <td>92000.0</td>\n      <td>Verified</td>\n      <td>Mar-2019</td>\n      <td>low_risk</td>\n      <td>n</td>\n      <td>31.44</td>\n      <td>...</td>\n      <td>100.0</td>\n      <td>50.0</td>\n      <td>1.0</td>\n      <td>0.0</td>\n      <td>99506.0</td>\n      <td>68784.0</td>\n      <td>19700.0</td>\n      <td>76506.0</td>\n      <td>N</td>\n      <td>N</td>\n    </tr>\n    <tr>\n      <th>4</th>\n      <td>22000.0</td>\n      <td>0.1474</td>\n      <td>520.39</td>\n      <td>MORTGAGE</td>\n      <td>52000.0</td>\n      <td>Not Verified</td>\n      <td>Mar-2019</td>\n      <td>low_risk</td>\n      <td>n</td>\n      <td>18.76</td>\n      <td>...</td>\n      <td>100.0</td>\n      <td>0.0</td>\n      <td>0.0</td>\n      <td>0.0</td>\n      <td>219750.0</td>\n      <td>25919.0</td>\n      <td>27600.0</td>\n      <td>20000.0</td>\n      <td>N</td>\n      <td>N</td>\n    </tr>\n    <tr>\n      <th>...</th>\n      <td>...</td>\n      <td>...</td>\n      <td>...</td>\n      <td>...</td>\n      <td>...</td>\n      <td>...</td>\n      <td>...</td>\n      <td>...</td>\n      <td>...</td>\n      <td>...</td>\n      <td>...</td>\n      <td>...</td>\n      <td>...</td>\n      <td>...</td>\n      <td>...</td>\n      <td>...</td>\n      <td>...</td>\n      <td>...</td>\n      <td>...</td>\n      <td>...</td>\n      <td>...</td>\n    </tr>\n    <tr>\n      <th>95</th>\n      <td>20000.0</td>\n      <td>0.0881</td>\n      <td>634.23</td>\n      <td>MORTGAGE</td>\n      <td>115000.0</td>\n      <td>Not Verified</td>\n      <td>Mar-2019</td>\n      <td>low_risk</td>\n      <td>n</td>\n      <td>32.58</td>\n      <td>...</td>\n      <td>96.8</td>\n      <td>0.0</td>\n      <td>0.0</td>\n      <td>0.0</td>\n      <td>231097.0</td>\n      <td>139116.0</td>\n      <td>67300.0</td>\n      <td>135997.0</td>\n      <td>N</td>\n      <td>N</td>\n    </tr>\n    <tr>\n      <th>96</th>\n      <td>24000.0</td>\n      <td>0.1240</td>\n      <td>538.74</td>\n      <td>RENT</td>\n      <td>50000.0</td>\n      <td>Source Verified</td>\n      <td>Mar-2019</td>\n      <td>low_risk</td>\n      <td>n</td>\n      <td>25.88</td>\n      <td>...</td>\n      <td>100.0</td>\n      <td>0.0</td>\n      <td>0.0</td>\n      <td>0.0</td>\n      <td>92477.0</td>\n      <td>40225.0</td>\n      <td>32900.0</td>\n      <td>52577.0</td>\n      <td>N</td>\n      <td>N</td>\n    </tr>\n    <tr>\n      <th>97</th>\n      <td>14000.0</td>\n      <td>0.1390</td>\n      <td>325.04</td>\n      <td>RENT</td>\n      <td>60000.0</td>\n      <td>Not Verified</td>\n      <td>Mar-2019</td>\n      <td>low_risk</td>\n      <td>n</td>\n      <td>11.36</td>\n      <td>...</td>\n      <td>94.1</td>\n      <td>100.0</td>\n      <td>0.0</td>\n      <td>0.0</td>\n      <td>57207.0</td>\n      <td>51341.0</td>\n      <td>10300.0</td>\n      <td>40007.0</td>\n      <td>N</td>\n      <td>N</td>\n    </tr>\n    <tr>\n      <th>98</th>\n      <td>40000.0</td>\n      <td>0.0702</td>\n      <td>1235.45</td>\n      <td>MORTGAGE</td>\n      <td>150000.0</td>\n      <td>Source Verified</td>\n      <td>Mar-2019</td>\n      <td>low_risk</td>\n      <td>n</td>\n      <td>13.66</td>\n      <td>...</td>\n      <td>100.0</td>\n      <td>72.7</td>\n      <td>0.0</td>\n      <td>0.0</td>\n      <td>323723.0</td>\n      <td>52914.0</td>\n      <td>42900.0</td>\n      <td>24409.0</td>\n      <td>N</td>\n      <td>N</td>\n    </tr>\n    <tr>\n      <th>99</th>\n      <td>10000.0</td>\n      <td>0.0646</td>\n      <td>306.31</td>\n      <td>MORTGAGE</td>\n      <td>150000.0</td>\n      <td>Not Verified</td>\n      <td>Mar-2019</td>\n      <td>low_risk</td>\n      <td>n</td>\n      <td>7.68</td>\n      <td>...</td>\n      <td>100.0</td>\n      <td>0.0</td>\n      <td>0.0</td>\n      <td>0.0</td>\n      <td>93509.0</td>\n      <td>14693.0</td>\n      <td>49300.0</td>\n      <td>28509.0</td>\n      <td>N</td>\n      <td>N</td>\n    </tr>\n  </tbody>\n</table>\n<p>100 rows × 86 columns</p>\n</div>"
     },
     "metadata": {},
     "execution_count": 5
    }
   ],
   "source": [
    "# Load the data\n",
    "file_path = Path('Resources/LoanStats_2019Q1.csv')\n",
    "print(file_path)\n",
    "df = pd.read_csv(file_path, skiprows=1)[:-2]\n",
    "df = df.loc[:, columns].copy()\n",
    "\n",
    "# Drop the null columns where all values are null\n",
    "df = df.dropna(axis='columns', how='all')\n",
    "\n",
    "# Drop the null rows\n",
    "df = df.dropna()\n",
    "\n",
    "# Remove the `Issued` loan status\n",
    "issued_mask = df['loan_status'] != 'Issued'\n",
    "df = df.loc[issued_mask]\n",
    "\n",
    "# convert interest rate to numerical\n",
    "df['int_rate'] = df['int_rate'].str.replace('%', '')\n",
    "df['int_rate'] = df['int_rate'].astype('float') / 100\n",
    "\n",
    "\n",
    "# Convert the target column values to low_risk and high_risk based on their values\n",
    "x = {'Current': 'low_risk'}   \n",
    "df = df.replace(x)\n",
    "\n",
    "x = dict.fromkeys(['Late (31-120 days)', 'Late (16-30 days)', 'Default', 'In Grace Period'], 'high_risk')    \n",
    "df = df.replace(x)\n",
    "\n",
    "df.reset_index(inplace=True, drop=True)\n",
    "\n",
    "df.head(100)"
   ]
  },
  {
   "cell_type": "markdown",
   "metadata": {},
   "source": [
    "# Split the Data into Training and Testing"
   ]
  },
  {
   "cell_type": "code",
   "execution_count": 6,
   "metadata": {},
   "outputs": [
    {
     "output_type": "stream",
     "name": "stdout",
     "text": [
      "  loan_status\n0    low_risk\n1    low_risk\n2    low_risk\n3    low_risk\n4    low_risk\n"
     ]
    }
   ],
   "source": [
    "# Create our features\n",
    "catagoryColumns = ['home_ownership','verification_status', 'pymnt_plan', 'hardship_flag', 'issue_d','debt_settlement_flag']\n",
    "\n",
    "y = df[['loan_status']]\n",
    "print(y.head())\n",
    "\n",
    "X= df\n",
    "del X['loan_status']\n"
   ]
  },
  {
   "cell_type": "code",
   "execution_count": 7,
   "metadata": {},
   "outputs": [
    {
     "output_type": "execute_result",
     "data": {
      "text/plain": [
       "          loan_amnt      int_rate   installment    annual_inc           dti  \\\n",
       "count  68817.000000  68817.000000  68817.000000  6.881700e+04  68817.000000   \n",
       "mean   16677.594562      0.127718    480.652863  8.821371e+04     21.778153   \n",
       "std    10277.348590      0.048130    288.062432  1.155800e+05     20.199244   \n",
       "min     1000.000000      0.060000     30.890000  4.000000e+01      0.000000   \n",
       "25%     9000.000000      0.088100    265.730000  5.000000e+04     13.890000   \n",
       "50%    15000.000000      0.118000    404.560000  7.300000e+04     19.760000   \n",
       "75%    24000.000000      0.155700    648.100000  1.040000e+05     26.660000   \n",
       "max    40000.000000      0.308400   1676.230000  8.797500e+06    999.000000   \n",
       "\n",
       "        delinq_2yrs  inq_last_6mths      open_acc       pub_rec  \\\n",
       "count  68817.000000    68817.000000  68817.000000  68817.000000   \n",
       "mean       0.217766        0.497697     12.587340      0.126030   \n",
       "std        0.718367        0.758122      6.022869      0.336797   \n",
       "min        0.000000        0.000000      2.000000      0.000000   \n",
       "25%        0.000000        0.000000      8.000000      0.000000   \n",
       "50%        0.000000        0.000000     11.000000      0.000000   \n",
       "75%        0.000000        1.000000     16.000000      0.000000   \n",
       "max       18.000000        5.000000     72.000000      4.000000   \n",
       "\n",
       "           revol_bal  ...  num_tl_90g_dpd_24m  num_tl_op_past_12m  \\\n",
       "count   68817.000000  ...        68817.000000        68817.000000   \n",
       "mean    17604.142828  ...            0.052138            2.219423   \n",
       "std     21835.880400  ...            0.390633            1.897432   \n",
       "min         0.000000  ...            0.000000            0.000000   \n",
       "25%      6293.000000  ...            0.000000            1.000000   \n",
       "50%     12068.000000  ...            0.000000            2.000000   \n",
       "75%     21735.000000  ...            0.000000            3.000000   \n",
       "max    587191.000000  ...           18.000000           19.000000   \n",
       "\n",
       "       pct_tl_nvr_dlq  percent_bc_gt_75  pub_rec_bankruptcies  tax_liens  \\\n",
       "count    68817.000000      68817.000000          68817.000000    68817.0   \n",
       "mean        95.057627         30.626217              0.125972        0.0   \n",
       "std          8.326426         33.631463              0.336732        0.0   \n",
       "min         20.000000          0.000000              0.000000        0.0   \n",
       "25%         93.000000          0.000000              0.000000        0.0   \n",
       "50%        100.000000         20.000000              0.000000        0.0   \n",
       "75%        100.000000         50.000000              0.000000        0.0   \n",
       "max        100.000000        100.000000              4.000000        0.0   \n",
       "\n",
       "       tot_hi_cred_lim  total_bal_ex_mort  total_bc_limit  \\\n",
       "count     6.881700e+04       6.881700e+04    68817.000000   \n",
       "mean      2.100332e+05       6.133843e+04    29734.128558   \n",
       "std       1.928088e+05       5.738798e+04    26795.394232   \n",
       "min       3.600000e+03       2.350000e+02      100.000000   \n",
       "25%       6.697700e+04       2.650300e+04    11600.000000   \n",
       "50%       1.467100e+05       4.535700e+04    22100.000000   \n",
       "75%       3.036400e+05       7.657000e+04    39300.000000   \n",
       "max       3.292782e+06       1.295455e+06   509400.000000   \n",
       "\n",
       "       total_il_high_credit_limit  \n",
       "count                6.881700e+04  \n",
       "mean                 5.572240e+04  \n",
       "std                  5.095845e+04  \n",
       "min                  1.270000e+02  \n",
       "25%                  2.288000e+04  \n",
       "50%                  4.200000e+04  \n",
       "75%                  7.249900e+04  \n",
       "max                  1.426964e+06  \n",
       "\n",
       "[8 rows x 76 columns]"
      ],
      "text/html": "<div>\n<style scoped>\n    .dataframe tbody tr th:only-of-type {\n        vertical-align: middle;\n    }\n\n    .dataframe tbody tr th {\n        vertical-align: top;\n    }\n\n    .dataframe thead th {\n        text-align: right;\n    }\n</style>\n<table border=\"1\" class=\"dataframe\">\n  <thead>\n    <tr style=\"text-align: right;\">\n      <th></th>\n      <th>loan_amnt</th>\n      <th>int_rate</th>\n      <th>installment</th>\n      <th>annual_inc</th>\n      <th>dti</th>\n      <th>delinq_2yrs</th>\n      <th>inq_last_6mths</th>\n      <th>open_acc</th>\n      <th>pub_rec</th>\n      <th>revol_bal</th>\n      <th>...</th>\n      <th>num_tl_90g_dpd_24m</th>\n      <th>num_tl_op_past_12m</th>\n      <th>pct_tl_nvr_dlq</th>\n      <th>percent_bc_gt_75</th>\n      <th>pub_rec_bankruptcies</th>\n      <th>tax_liens</th>\n      <th>tot_hi_cred_lim</th>\n      <th>total_bal_ex_mort</th>\n      <th>total_bc_limit</th>\n      <th>total_il_high_credit_limit</th>\n    </tr>\n  </thead>\n  <tbody>\n    <tr>\n      <th>count</th>\n      <td>68817.000000</td>\n      <td>68817.000000</td>\n      <td>68817.000000</td>\n      <td>6.881700e+04</td>\n      <td>68817.000000</td>\n      <td>68817.000000</td>\n      <td>68817.000000</td>\n      <td>68817.000000</td>\n      <td>68817.000000</td>\n      <td>68817.000000</td>\n      <td>...</td>\n      <td>68817.000000</td>\n      <td>68817.000000</td>\n      <td>68817.000000</td>\n      <td>68817.000000</td>\n      <td>68817.000000</td>\n      <td>68817.0</td>\n      <td>6.881700e+04</td>\n      <td>6.881700e+04</td>\n      <td>68817.000000</td>\n      <td>6.881700e+04</td>\n    </tr>\n    <tr>\n      <th>mean</th>\n      <td>16677.594562</td>\n      <td>0.127718</td>\n      <td>480.652863</td>\n      <td>8.821371e+04</td>\n      <td>21.778153</td>\n      <td>0.217766</td>\n      <td>0.497697</td>\n      <td>12.587340</td>\n      <td>0.126030</td>\n      <td>17604.142828</td>\n      <td>...</td>\n      <td>0.052138</td>\n      <td>2.219423</td>\n      <td>95.057627</td>\n      <td>30.626217</td>\n      <td>0.125972</td>\n      <td>0.0</td>\n      <td>2.100332e+05</td>\n      <td>6.133843e+04</td>\n      <td>29734.128558</td>\n      <td>5.572240e+04</td>\n    </tr>\n    <tr>\n      <th>std</th>\n      <td>10277.348590</td>\n      <td>0.048130</td>\n      <td>288.062432</td>\n      <td>1.155800e+05</td>\n      <td>20.199244</td>\n      <td>0.718367</td>\n      <td>0.758122</td>\n      <td>6.022869</td>\n      <td>0.336797</td>\n      <td>21835.880400</td>\n      <td>...</td>\n      <td>0.390633</td>\n      <td>1.897432</td>\n      <td>8.326426</td>\n      <td>33.631463</td>\n      <td>0.336732</td>\n      <td>0.0</td>\n      <td>1.928088e+05</td>\n      <td>5.738798e+04</td>\n      <td>26795.394232</td>\n      <td>5.095845e+04</td>\n    </tr>\n    <tr>\n      <th>min</th>\n      <td>1000.000000</td>\n      <td>0.060000</td>\n      <td>30.890000</td>\n      <td>4.000000e+01</td>\n      <td>0.000000</td>\n      <td>0.000000</td>\n      <td>0.000000</td>\n      <td>2.000000</td>\n      <td>0.000000</td>\n      <td>0.000000</td>\n      <td>...</td>\n      <td>0.000000</td>\n      <td>0.000000</td>\n      <td>20.000000</td>\n      <td>0.000000</td>\n      <td>0.000000</td>\n      <td>0.0</td>\n      <td>3.600000e+03</td>\n      <td>2.350000e+02</td>\n      <td>100.000000</td>\n      <td>1.270000e+02</td>\n    </tr>\n    <tr>\n      <th>25%</th>\n      <td>9000.000000</td>\n      <td>0.088100</td>\n      <td>265.730000</td>\n      <td>5.000000e+04</td>\n      <td>13.890000</td>\n      <td>0.000000</td>\n      <td>0.000000</td>\n      <td>8.000000</td>\n      <td>0.000000</td>\n      <td>6293.000000</td>\n      <td>...</td>\n      <td>0.000000</td>\n      <td>1.000000</td>\n      <td>93.000000</td>\n      <td>0.000000</td>\n      <td>0.000000</td>\n      <td>0.0</td>\n      <td>6.697700e+04</td>\n      <td>2.650300e+04</td>\n      <td>11600.000000</td>\n      <td>2.288000e+04</td>\n    </tr>\n    <tr>\n      <th>50%</th>\n      <td>15000.000000</td>\n      <td>0.118000</td>\n      <td>404.560000</td>\n      <td>7.300000e+04</td>\n      <td>19.760000</td>\n      <td>0.000000</td>\n      <td>0.000000</td>\n      <td>11.000000</td>\n      <td>0.000000</td>\n      <td>12068.000000</td>\n      <td>...</td>\n      <td>0.000000</td>\n      <td>2.000000</td>\n      <td>100.000000</td>\n      <td>20.000000</td>\n      <td>0.000000</td>\n      <td>0.0</td>\n      <td>1.467100e+05</td>\n      <td>4.535700e+04</td>\n      <td>22100.000000</td>\n      <td>4.200000e+04</td>\n    </tr>\n    <tr>\n      <th>75%</th>\n      <td>24000.000000</td>\n      <td>0.155700</td>\n      <td>648.100000</td>\n      <td>1.040000e+05</td>\n      <td>26.660000</td>\n      <td>0.000000</td>\n      <td>1.000000</td>\n      <td>16.000000</td>\n      <td>0.000000</td>\n      <td>21735.000000</td>\n      <td>...</td>\n      <td>0.000000</td>\n      <td>3.000000</td>\n      <td>100.000000</td>\n      <td>50.000000</td>\n      <td>0.000000</td>\n      <td>0.0</td>\n      <td>3.036400e+05</td>\n      <td>7.657000e+04</td>\n      <td>39300.000000</td>\n      <td>7.249900e+04</td>\n    </tr>\n    <tr>\n      <th>max</th>\n      <td>40000.000000</td>\n      <td>0.308400</td>\n      <td>1676.230000</td>\n      <td>8.797500e+06</td>\n      <td>999.000000</td>\n      <td>18.000000</td>\n      <td>5.000000</td>\n      <td>72.000000</td>\n      <td>4.000000</td>\n      <td>587191.000000</td>\n      <td>...</td>\n      <td>18.000000</td>\n      <td>19.000000</td>\n      <td>100.000000</td>\n      <td>100.000000</td>\n      <td>4.000000</td>\n      <td>0.0</td>\n      <td>3.292782e+06</td>\n      <td>1.295455e+06</td>\n      <td>509400.000000</td>\n      <td>1.426964e+06</td>\n    </tr>\n  </tbody>\n</table>\n<p>8 rows × 76 columns</p>\n</div>"
     },
     "metadata": {},
     "execution_count": 7
    }
   ],
   "source": [
    "X.describe()"
   ]
  },
  {
   "cell_type": "code",
   "execution_count": 8,
   "metadata": {},
   "outputs": [
    {
     "output_type": "execute_result",
     "data": {
      "text/plain": [
       "low_risk     68470\n",
       "high_risk      347\n",
       "Name: loan_status, dtype: int64"
      ]
     },
     "metadata": {},
     "execution_count": 8
    }
   ],
   "source": [
    "# Check the balance of our target values\n",
    "y['loan_status'].value_counts()"
   ]
  },
  {
   "cell_type": "code",
   "execution_count": 9,
   "metadata": {},
   "outputs": [],
   "source": [
    "from sklearn.model_selection import train_test_split\n",
    "\n",
    "X = pd.get_dummies(X)\n",
    "\n",
    "X_train, X_test, y_train, y_test = train_test_split(X, y, random_state=1)"
   ]
  },
  {
   "cell_type": "markdown",
   "metadata": {},
   "source": [
    "# Oversampling\n",
    "\n",
    "In this section, you will compare two oversampling algorithms to determine which algorithm results in the best performance. You will oversample the data using the naive random oversampling algorithm and the SMOTE algorithm. For each algorithm, be sure to complete the folliowing steps:\n",
    "\n",
    "1. View the count of the target classes using `Counter` from the collections library. \n",
    "3. Use the resampled data to train a logistic regression model.\n",
    "3. Calculate the balanced accuracy score from sklearn.metrics.\n",
    "4. Print the confusion matrix from sklearn.metrics.\n",
    "5. Generate a classication report using the `imbalanced_classification_report` from imbalanced-learn.\n",
    "\n",
    "Note: Use a random state of 1 for each sampling algorithm to ensure consistency between tests"
   ]
  },
  {
   "cell_type": "markdown",
   "metadata": {},
   "source": [
    "### Naive Random Oversampling"
   ]
  },
  {
   "cell_type": "code",
   "execution_count": 10,
   "metadata": {},
   "outputs": [
    {
     "output_type": "execute_result",
     "data": {
      "text/plain": [
       "Counter({'loan_status': 1})"
      ]
     },
     "metadata": {},
     "execution_count": 10
    }
   ],
   "source": [
    "# Resample the training data with the RandomOversampler\n",
    "from imblearn.over_sampling import RandomOverSampler\n",
    "ros = RandomOverSampler(random_state=1)\n",
    "X_resampledROS, y_resampledROS = ros.fit_resample(X_train, y_train)\n",
    "\n",
    "Counter(y_resampledROS)"
   ]
  },
  {
   "cell_type": "code",
   "execution_count": null,
   "metadata": {},
   "outputs": [],
   "source": []
  },
  {
   "cell_type": "code",
   "execution_count": 11,
   "metadata": {},
   "outputs": [
    {
     "output_type": "execute_result",
     "data": {
      "text/plain": [
       "0.6301075268817204"
      ]
     },
     "metadata": {},
     "execution_count": 11
    }
   ],
   "source": [
    "# Train the Logistic Regression model using the resampled data\n",
    "from sklearn.linear_model import LogisticRegression\n",
    "model = LogisticRegression(solver='lbfgs', random_state=1)\n",
    "model.fit(X_resampledROS, y_resampledROS)\n",
    "predictions = model.predict(X_test)\n",
    "\n",
    "\n",
    "from sklearn.metrics import accuracy_score\n",
    "accuracy_score(y_test, predictions)\n"
   ]
  },
  {
   "cell_type": "code",
   "execution_count": null,
   "metadata": {},
   "outputs": [],
   "source": []
  },
  {
   "cell_type": "code",
   "execution_count": 12,
   "metadata": {},
   "outputs": [
    {
     "output_type": "execute_result",
     "data": {
      "text/plain": [
       "0.6663237827524566"
      ]
     },
     "metadata": {},
     "execution_count": 12
    }
   ],
   "source": [
    "# Calculated the balanced accuracy score\n",
    "# YOUR CODE HERE\n",
    "\n",
    "from sklearn.metrics import balanced_accuracy_score\n",
    "balanced_accuracy_score(y_test, predictions)\n"
   ]
  },
  {
   "cell_type": "code",
   "execution_count": 13,
   "metadata": {},
   "outputs": [
    {
     "output_type": "stream",
     "name": "stdout",
     "text": [
      "[[   71    30]\n",
      " [ 6334 10770]]\n",
      "              precision    recall  f1-score   support\n",
      "\n",
      "   high_risk       0.01      0.70      0.02       101\n",
      "    low_risk       1.00      0.63      0.77     17104\n",
      "\n",
      "    accuracy                           0.63     17205\n",
      "   macro avg       0.50      0.67      0.40     17205\n",
      "weighted avg       0.99      0.63      0.77     17205\n",
      "\n"
     ]
    }
   ],
   "source": [
    "# Display the confusion matrix\n",
    "from sklearn.metrics import confusion_matrix, classification_report\n",
    "matrix = confusion_matrix(y_test, predictions)\n",
    "print(matrix)\n",
    "\n",
    "print(classification_report(y_test, predictions))\n"
   ]
  },
  {
   "cell_type": "code",
   "execution_count": 14,
   "metadata": {},
   "outputs": [
    {
     "output_type": "stream",
     "name": "stdout",
     "text": [
      "                   pre       rec       spe        f1       geo       iba       sup\n\n  high_risk       0.01      0.70      0.63      0.02      0.67      0.45       101\n   low_risk       1.00      0.63      0.70      0.77      0.67      0.44     17104\n\navg / total       0.99      0.63      0.70      0.77      0.67      0.44     17205\n\n"
     ]
    }
   ],
   "source": [
    "# Print the imbalanced classification report\n",
    "from imblearn.metrics import classification_report_imbalanced\n",
    "print(classification_report_imbalanced(y_test, predictions))\n"
   ]
  },
  {
   "cell_type": "markdown",
   "metadata": {},
   "source": [
    "### SMOTE Oversampling"
   ]
  },
  {
   "cell_type": "code",
   "execution_count": 15,
   "metadata": {},
   "outputs": [],
   "source": [
    "# Resample the training data with SMOTE\n",
    "# YOUR CODE HERE\n",
    "from imblearn.over_sampling import SMOTE\n",
    "smote = SMOTE(random_state=0)\n",
    "X_resampledSMOTE, y_resampledSMOTE = smote.fit_resample(X_train, y_train)\n"
   ]
  },
  {
   "cell_type": "code",
   "execution_count": 16,
   "metadata": {},
   "outputs": [],
   "source": [
    "# Train the Logistic Regression model using the resampled data\n",
    "model = LogisticRegression(solver='lbfgs', random_state=1)\n",
    "model.fit(X_resampledSMOTE, y_resampledSMOTE)\n",
    "SMOTE_predictions = model.predict(X_test)"
   ]
  },
  {
   "cell_type": "code",
   "execution_count": 17,
   "metadata": {},
   "outputs": [
    {
     "output_type": "stream",
     "name": "stdout",
     "text": [
      "0.6429238369346757\n"
     ]
    }
   ],
   "source": [
    "# Calculated the balanced accuracy score\n",
    "print(balanced_accuracy_score(y_test, SMOTE_predictions))\n"
   ]
  },
  {
   "cell_type": "code",
   "execution_count": 18,
   "metadata": {},
   "outputs": [
    {
     "output_type": "stream",
     "name": "stdout",
     "text": [
      "[[   61    40]\n",
      " [ 5441 11663]]\n",
      "              precision    recall  f1-score   support\n",
      "\n",
      "   high_risk       0.01      0.60      0.02       101\n",
      "    low_risk       1.00      0.68      0.81     17104\n",
      "\n",
      "    accuracy                           0.68     17205\n",
      "   macro avg       0.50      0.64      0.42     17205\n",
      "weighted avg       0.99      0.68      0.81     17205\n",
      "\n"
     ]
    }
   ],
   "source": [
    "# Display the confusion matrix\n",
    "matrix = confusion_matrix(y_test, SMOTE_predictions)\n",
    "print(matrix)\n",
    "\n",
    "print(classification_report(y_test, SMOTE_predictions))\n"
   ]
  },
  {
   "cell_type": "code",
   "execution_count": 19,
   "metadata": {},
   "outputs": [
    {
     "output_type": "stream",
     "name": "stdout",
     "text": [
      "                   pre       rec       spe        f1       geo       iba       sup\n\n  high_risk       0.01      0.60      0.68      0.02      0.64      0.41       101\n   low_risk       1.00      0.68      0.60      0.81      0.64      0.42     17104\n\navg / total       0.99      0.68      0.60      0.81      0.64      0.42     17205\n\n"
     ]
    }
   ],
   "source": [
    "# Print the imbalanced classification report\n",
    "print(classification_report_imbalanced(y_test, SMOTE_predictions))\n"
   ]
  },
  {
   "cell_type": "markdown",
   "metadata": {},
   "source": [
    "# Undersampling\n",
    "\n",
    "In this section, you will test an undersampling algorithms to determine which algorithm results in the best performance compared to the oversampling algorithms above. You will undersample the data using the Cluster Centroids algorithm and complete the folliowing steps:\n",
    "\n",
    "1. View the count of the target classes using `Counter` from the collections library. \n",
    "3. Use the resampled data to train a logistic regression model.\n",
    "3. Calculate the balanced accuracy score from sklearn.metrics.\n",
    "4. Print the confusion matrix from sklearn.metrics.\n",
    "5. Generate a classication report using the `imbalanced_classification_report` from imbalanced-learn.\n",
    "\n",
    "Note: Use a random state of 1 for each sampling algorithm to ensure consistency between tests"
   ]
  },
  {
   "cell_type": "code",
   "execution_count": 20,
   "metadata": {},
   "outputs": [
    {
     "output_type": "execute_result",
     "data": {
      "text/plain": [
       "Counter({'loan_status': 1})"
      ]
     },
     "metadata": {},
     "execution_count": 20
    }
   ],
   "source": [
    "# Resample the data using the ClusterCentroids resampler\n",
    "# Warning: This is a large dataset, and this step may take some time to complete\n",
    "from imblearn.under_sampling import ClusterCentroids\n",
    "cc = ClusterCentroids(random_state=1)\n",
    "X_resampledCC, y_resampledCC = cc.fit_resample(X_train, y_train)\n",
    "\n",
    "\n",
    "Counter(y_resampledCC)\n",
    "\n",
    "# YOUR CODE HERE"
   ]
  },
  {
   "cell_type": "code",
   "execution_count": 21,
   "metadata": {},
   "outputs": [],
   "source": [
    "# Train the Logistic Regression model using the resampled data\n",
    "# YOUR CODE HERE\n",
    "model = LogisticRegression(solver='lbfgs', random_state=1)\n",
    "model.fit(X_resampledCC, y_resampledCC)\n",
    "CC_predictions = model.predict(X_test)"
   ]
  },
  {
   "cell_type": "code",
   "execution_count": 22,
   "metadata": {},
   "outputs": [
    {
     "output_type": "stream",
     "name": "stdout",
     "text": [
      "0.5442661782548694\n"
     ]
    }
   ],
   "source": [
    "# Calculated the balanced accuracy score\n",
    "print(balanced_accuracy_score(y_test, CC_predictions))\n"
   ]
  },
  {
   "cell_type": "code",
   "execution_count": 23,
   "metadata": {},
   "outputs": [
    {
     "output_type": "stream",
     "name": "stdout",
     "text": [
      "[[   70    31]\n",
      " [10340  6764]]\n",
      "              precision    recall  f1-score   support\n",
      "\n",
      "   high_risk       0.01      0.69      0.01       101\n",
      "    low_risk       1.00      0.40      0.57     17104\n",
      "\n",
      "    accuracy                           0.40     17205\n",
      "   macro avg       0.50      0.54      0.29     17205\n",
      "weighted avg       0.99      0.40      0.56     17205\n",
      "\n"
     ]
    }
   ],
   "source": [
    "# Display the confusion matrix\n",
    "matrix = confusion_matrix(y_test, CC_predictions)\n",
    "print(matrix)\n",
    "print(classification_report(y_test, CC_predictions))\n"
   ]
  },
  {
   "cell_type": "code",
   "execution_count": 24,
   "metadata": {},
   "outputs": [
    {
     "output_type": "stream",
     "name": "stdout",
     "text": [
      "                   pre       rec       spe        f1       geo       iba       sup\n\n  high_risk       0.01      0.69      0.40      0.01      0.52      0.28       101\n   low_risk       1.00      0.40      0.69      0.57      0.52      0.27     17104\n\navg / total       0.99      0.40      0.69      0.56      0.52      0.27     17205\n\n"
     ]
    }
   ],
   "source": [
    "# Print the imbalanced classification report\n",
    "print(classification_report_imbalanced(y_test, CC_predictions))\n"
   ]
  },
  {
   "cell_type": "markdown",
   "metadata": {},
   "source": [
    "# Combination (Over and Under) Sampling\n",
    "\n",
    "In this section, you will test a combination over- and under-sampling algorithm to determine if the algorithm results in the best performance compared to the other sampling algorithms above. You will resample the data using the SMOTEENN algorithm and complete the folliowing steps:\n",
    "\n",
    "1. View the count of the target classes using `Counter` from the collections library. \n",
    "3. Use the resampled data to train a logistic regression model.\n",
    "3. Calculate the balanced accuracy score from sklearn.metrics.\n",
    "4. Print the confusion matrix from sklearn.metrics.\n",
    "5. Generate a classication report using the `imbalanced_classification_report` from imbalanced-learn.\n",
    "\n",
    "Note: Use a random state of 1 for each sampling algorithm to ensure consistency between tests"
   ]
  },
  {
   "cell_type": "code",
   "execution_count": 90,
   "metadata": {},
   "outputs": [
    {
     "output_type": "execute_result",
     "data": {
      "text/plain": [
       "Counter({'loan_status': 1})"
      ]
     },
     "metadata": {},
     "execution_count": 90
    }
   ],
   "source": [
    "# Resample the training data with SMOTEENN\n",
    "# Warning: This is a large dataset, and this step may take some time to completefrom imblearn.combine import SMOTEENN\n",
    "from imblearn.combine import SMOTEENN\n",
    "smote_enn = SMOTEENN(random_state=0)\n",
    "X_resampledSMOTEENN, y_resampledSMOTEENN = smote_enn.fit_resample(X, y)\n",
    "Counter(y_resampledSMOTEENN)\n",
    "\n"
   ]
  },
  {
   "cell_type": "code",
   "execution_count": 91,
   "metadata": {},
   "outputs": [],
   "source": [
    "# Train the Logistic Regression model using the resampled data\n",
    "model = LogisticRegression(solver='lbfgs', random_state=1)\n",
    "model.fit(X_resampledSMOTEENN, y_resampledSMOTEENN)\n",
    "SMOTEENN_predictions = model.predict(X_test)"
   ]
  },
  {
   "cell_type": "code",
   "execution_count": 92,
   "metadata": {},
   "outputs": [
    {
     "output_type": "stream",
     "name": "stdout",
     "text": [
      "0.6447701423556762\n"
     ]
    }
   ],
   "source": [
    "# Calculated the balanced accuracy score\n",
    "# YOUR CODE HERE\n",
    "print(balanced_accuracy_score(y_test, SMOTEENN_predictions))\n"
   ]
  },
  {
   "cell_type": "code",
   "execution_count": 98,
   "metadata": {},
   "outputs": [
    {
     "output_type": "stream",
     "name": "stdout",
     "text": [
      "[[  73   28]\n",
      " [7410 9694]]\n",
      "              precision    recall  f1-score   support\n",
      "\n",
      "   high_risk       0.01      0.72      0.02       101\n",
      "    low_risk       1.00      0.57      0.72     17104\n",
      "\n",
      "    accuracy                           0.57     17205\n",
      "   macro avg       0.50      0.64      0.37     17205\n",
      "weighted avg       0.99      0.57      0.72     17205\n",
      "\n"
     ]
    }
   ],
   "source": [
    "# Display the confusion matrix\n",
    "# YOUR CODE HERE\n",
    "matrix = confusion_matrix(y_test, SMOTEENN_predictions)\n",
    "print(matrix)\n",
    "print(classification_report(y_test, SMOTEENN_predictions))\n",
    "\n"
   ]
  },
  {
   "cell_type": "code",
   "execution_count": 94,
   "metadata": {},
   "outputs": [
    {
     "output_type": "stream",
     "name": "stdout",
     "text": [
      "                   pre       rec       spe        f1       geo       iba       sup\n\n  high_risk       0.01      0.72      0.57      0.02      0.64      0.42       101\n   low_risk       1.00      0.57      0.72      0.72      0.64      0.40     17104\n\navg / total       0.99      0.57      0.72      0.72      0.64      0.40     17205\n\n"
     ]
    }
   ],
   "source": [
    "# Print the imbalanced classification report\n",
    "# YOUR CODE HERE\n",
    "print(classification_report_imbalanced(y_test, SMOTEENN_predictions))\n"
   ]
  },
  {
   "source": [
    "# Analysis and Conclusions\n",
    "We tried several models with different over and sampling methods.  None of the the models where usable with low .01 precision on all tools and Recall less then .75 on all models for high risk judegements\n",
    "\n",
    "## Oversampling\n",
    "The Naive Random Oversamples and Smote oversampling methods produced unworkable models.  With the Native oversampling performing slightly better with a recall of 0.70 versus 0.60.  Both precisions were terrible at 0.01\n",
    "\n",
    "## Undersampling\n",
    "ClusterCentroids undersampling methods were similiar to the Native Random Oversample results with a recall of 0.69 and a precision of 0.01\n",
    "\n",
    "## Combination\n",
    "The Combitation sampling had the best recall of 0.72 and but still abymal 0.01 precision scores and a low f2 score of 0.02.\n"
   ],
   "cell_type": "markdown",
   "metadata": {}
  }
 ],
 "metadata": {
  "kernelspec": {
   "name": "python3710jvsc74a57bd094b9f96636eada27d0a35eac1ada8b30a2f3b534b75f3d6ddafcb1e8b424d75a",
   "display_name": "Python 3.7.10 64-bit ('mlenv': conda)"
  },
  "language_info": {
   "codemirror_mode": {
    "name": "ipython",
    "version": 3
   },
   "file_extension": ".py",
   "mimetype": "text/x-python",
   "name": "python",
   "nbconvert_exporter": "python",
   "pygments_lexer": "ipython3",
   "version": "3.7.10"
  }
 },
 "nbformat": 4,
 "nbformat_minor": 2
}